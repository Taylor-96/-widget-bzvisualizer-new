{
 "cells": [
  {
   "cell_type": "markdown",
   "id": "phantom-storm",
   "metadata": {},
   "source": [
    "## **A Jupyter widget to visualize the 1st Brillouin zone**\n",
    "\n",
    "<hr style=\"height:1px;border:none;color:#cccccc;background-color:#cccccc;\" />"
   ]
  },
  {
   "cell_type": "code",
   "execution_count": null,
   "id": "prescription-fountain",
   "metadata": {},
   "outputs": [],
   "source": [
    "from widget_bzvisualizer import BZVisualizer\n",
    "import numpy as np"
   ]
  },
  {
   "cell_type": "code",
   "execution_count": null,
   "id": "valued-flooring",
   "metadata": {},
   "outputs": [],
   "source": [
    "lattice = np.array([[1, 0, 0], [0, 1, 0], [0, 0, 1]])"
   ]
  },
  {
   "cell_type": "code",
   "execution_count": null,
   "id": "requested-acoustic",
   "metadata": {},
   "outputs": [],
   "source": [
    "w = BZVisualizer(lattice, [[0.0, 0.0, 0.0]], [1], True)\n",
    "display(w)"
   ]
  },
  {
   "cell_type": "code",
   "execution_count": null,
   "id": "designed-adoption",
   "metadata": {},
   "outputs": [],
   "source": []
  }
 ],
 "metadata": {
  "kernelspec": {
   "display_name": "Python 3",
   "language": "python",
   "name": "python3"
  },
  "language_info": {
   "codemirror_mode": {
    "name": "ipython",
    "version": 3
   },
   "file_extension": ".py",
   "mimetype": "text/x-python",
   "name": "python",
   "nbconvert_exporter": "python",
   "pygments_lexer": "ipython3",
   "version": "3.9.1"
  }
 },
 "nbformat": 4,
 "nbformat_minor": 5
}
