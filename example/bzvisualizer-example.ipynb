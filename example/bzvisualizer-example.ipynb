{
 "cells": [
  {
   "cell_type": "markdown",
   "id": "preceding-winning",
   "metadata": {},
   "source": [
    "## **A Jupyter widget to visualize the 1st Brillouin zone**\n",
    "\n",
    "<hr style=\"height:1px;border:none;color:#cccccc;background-color:#cccccc;\" />"
   ]
  },
  {
   "cell_type": "code",
   "execution_count": 14,
   "id": "vocational-fellowship",
   "metadata": {},
   "outputs": [],
   "source": [
    "from widget_bzvisualizer import BZVisualizer\n",
    "import numpy as np"
   ]
  },
  {
   "cell_type": "code",
   "execution_count": 15,
   "id": "indian-seller",
   "metadata": {},
   "outputs": [],
   "source": [
    "lattice = np.array([[1, 0, 0], [0, 1, 0], [0, 0, 1]])"
   ]
  },
  {
   "cell_type": "code",
   "execution_count": 16,
   "id": "higher-cocktail",
   "metadata": {},
   "outputs": [
    {
     "data": {
      "application/vnd.jupyter.widget-view+json": {
       "model_id": "8690af65b9534343ba11dff71b74d473",
       "version_major": 2,
       "version_minor": 0
      },
      "text/plain": [
       "BZVisualizer(cell=[[1, 0, 0], [0, 1, 0], [0, 0, 1]], jsondata={'faces_data': {'triangles_vertices': [[3.141592…"
      ]
     },
     "metadata": {},
     "output_type": "display_data"
    }
   ],
   "source": [
    "w = BZVisualizer(lattice, [[0.0, 0.0, 0.0]], [1], True)\n",
    "display(w)"
   ]
  },
  {
   "cell_type": "code",
   "execution_count": 13,
   "id": "placed-spyware",
   "metadata": {},
   "outputs": [
    {
     "data": {
      "text/plain": [
       "True"
      ]
     },
     "execution_count": 13,
     "metadata": {},
     "output_type": "execute_result"
    }
   ],
   "source": [
    "w.face_color"
   ]
  },
  {
   "cell_type": "code",
   "execution_count": null,
   "id": "noticed-pipeline",
   "metadata": {},
   "outputs": [],
   "source": []
  }
 ],
 "metadata": {
  "kernelspec": {
   "display_name": "Python 3",
   "language": "python",
   "name": "python3"
  },
  "language_info": {
   "codemirror_mode": {
    "name": "ipython",
    "version": 3
   },
   "file_extension": ".py",
   "mimetype": "text/x-python",
   "name": "python",
   "nbconvert_exporter": "python",
   "pygments_lexer": "ipython3",
   "version": "3.9.1"
  }
 },
 "nbformat": 4,
 "nbformat_minor": 5
}
